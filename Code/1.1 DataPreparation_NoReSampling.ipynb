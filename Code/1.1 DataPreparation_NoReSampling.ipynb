{
 "cells": [
  {
   "cell_type": "code",
   "execution_count": 15,
   "id": "223976de-f604-434d-8790-6f5a4dc53755",
   "metadata": {},
   "outputs": [
    {
     "data": {
      "text/plain": [
       "'/home/jhou2/HSV434/LandscapeProject/HSV434-IFNG-mechanism'"
      ]
     },
     "execution_count": 15,
     "metadata": {},
     "output_type": "execute_result"
    }
   ],
   "source": [
    "# Basic\n",
    "import os\n",
    "import pandas as pd \n",
    "import numpy as np\n",
    "import matplotlib.pyplot as plt\n",
    "from joblib import dump, load\n",
    "import pickle\n",
    "\n",
    "# GLM\n",
    "import statsmodels.api as sm\n",
    "import statsmodels.formula.api as smf\n",
    "from statsmodels.genmod.families import family\n",
    "from statsmodels.stats.multitest import multipletests\n",
    " \n",
    "# Modelling\n",
    "from sklearn.preprocessing import MinMaxScaler, StandardScaler\n",
    "from sklearn.linear_model import Ridge, Lasso, RidgeCV, LassoCV, ElasticNet, LogisticRegression, LogisticRegressionCV\n",
    "from sklearn.svm import SVR, SVC\n",
    "from sklearn.ensemble import RandomForestRegressor, RandomForestClassifier, GradientBoostingRegressor, GradientBoostingClassifier, StackingRegressor, StackingClassifier\n",
    "from xgboost import XGBRegressor, XGBClassifier\n",
    "from sklearn.pipeline import Pipeline\n",
    "from sklearn.feature_selection import SelectFromModel\n",
    "from mlxtend.regressor import StackingCVRegressor\n",
    "from skopt import BayesSearchCV\n",
    "from skopt.space import Real, Categorical, Integer\n",
    "from sklearn.model_selection import cross_val_score\n",
    "\n",
    "# Mertrics\n",
    "from sklearn.metrics import mean_absolute_error, mean_squared_error, accuracy_score, confusion_matrix, precision_score, roc_curve, recall_score, precision_recall_curve, precision_recall_fscore_support, roc_auc_score, ConfusionMatrixDisplay, r2_score\n",
    "from sklearn.model_selection import GridSearchCV, RandomizedSearchCV, train_test_split, cross_val_score\n",
    "from scipy.stats import randint\n",
    "\n",
    "# oversampling method by SMOTE \n",
    "# !pip install imbalanced-learn\n",
    "from imblearn.over_sampling import SMOTE\n",
    "\n",
    "# Tree Visualisation\n",
    "from sklearn.tree import export_graphviz\n",
    "from IPython.display import Image\n",
    "\n",
    "# import graphviz\n",
    "%matplotlib inline\n",
    "\n",
    "from warnings import simplefilter\n",
    "simplefilter(action=\"ignore\", category=pd.errors.PerformanceWarning)\n",
    "\n",
    "# glance wd\n",
    "os.getcwd()"
   ]
  },
  {
   "cell_type": "code",
   "execution_count": 16,
   "id": "fef6b2f6-512f-4feb-b0b9-edd5d3808ab9",
   "metadata": {},
   "outputs": [],
   "source": [
    "os.chdir('/home/jhou2/HSV434/LandscapeProject/HSV434-IFNG-mechanism')"
   ]
  },
  {
   "cell_type": "markdown",
   "id": "359e3f38-ce92-4248-9ac5-b55d84441aab",
   "metadata": {},
   "source": [
    "### Without any resampling, Just as original data"
   ]
  },
  {
   "cell_type": "code",
   "execution_count": 17,
   "id": "72271860-4653-4385-b0eb-5b719a28b740",
   "metadata": {},
   "outputs": [],
   "source": [
    "exp_meta_df = load('Processed/HSV434_Tcell_IFNG_mechanism_exp_matrix')"
   ]
  },
  {
   "cell_type": "code",
   "execution_count": 18,
   "id": "de4b3e04-cba2-4c49-b6e7-c351ea58d811",
   "metadata": {},
   "outputs": [
    {
     "data": {
      "text/plain": [
       "IFNG_bin\n",
       "0    16375\n",
       "1     2768\n",
       "Name: count, dtype: int64"
      ]
     },
     "execution_count": 18,
     "metadata": {},
     "output_type": "execute_result"
    }
   ],
   "source": [
    "exp_meta_df['IFNG_bin'].value_counts()"
   ]
  },
  {
   "cell_type": "markdown",
   "id": "6a2e0982-e9eb-43f0-88ef-5dace09c14f5",
   "metadata": {},
   "source": [
    "### Feature selection:"
   ]
  },
  {
   "cell_type": "code",
   "execution_count": 19,
   "id": "e62d8c7e-f5d9-44e0-ae8b-691f288a0d12",
   "metadata": {},
   "outputs": [
    {
     "data": {
      "text/html": [
       "<div>\n",
       "<style scoped>\n",
       "    .dataframe tbody tr th:only-of-type {\n",
       "        vertical-align: middle;\n",
       "    }\n",
       "\n",
       "    .dataframe tbody tr th {\n",
       "        vertical-align: top;\n",
       "    }\n",
       "\n",
       "    .dataframe thead th {\n",
       "        text-align: right;\n",
       "    }\n",
       "</style>\n",
       "<table border=\"1\" class=\"dataframe\">\n",
       "  <thead>\n",
       "    <tr style=\"text-align: right;\">\n",
       "      <th></th>\n",
       "      <th>MIR1302_2HG</th>\n",
       "      <th>AL627309_1</th>\n",
       "      <th>AL627309_3</th>\n",
       "      <th>AL669831_5</th>\n",
       "      <th>FAM87B</th>\n",
       "      <th>LINC00115</th>\n",
       "      <th>FAM41C</th>\n",
       "      <th>AL645608_7</th>\n",
       "      <th>SAMD11</th>\n",
       "      <th>NOC2L</th>\n",
       "      <th>...</th>\n",
       "      <th>HSV2_UL23</th>\n",
       "      <th>HSV2_UL26</th>\n",
       "      <th>HSV2_UL47</th>\n",
       "      <th>HSV2_UL49</th>\n",
       "      <th>HSV2_UL50</th>\n",
       "      <th>HSV2_US9</th>\n",
       "      <th>Subject</th>\n",
       "      <th>Status</th>\n",
       "      <th>CellType_Level3</th>\n",
       "      <th>IFNG_bin</th>\n",
       "    </tr>\n",
       "  </thead>\n",
       "  <tbody>\n",
       "    <tr>\n",
       "      <th>Subject1_8WPH_AACTTTCCACTTAAGC-1</th>\n",
       "      <td>-0.007228</td>\n",
       "      <td>-0.024929</td>\n",
       "      <td>-0.007228</td>\n",
       "      <td>-0.16344</td>\n",
       "      <td>-0.015375</td>\n",
       "      <td>-0.129093</td>\n",
       "      <td>-0.04986</td>\n",
       "      <td>-0.007228</td>\n",
       "      <td>-0.024386</td>\n",
       "      <td>-0.404232</td>\n",
       "      <td>...</td>\n",
       "      <td>-0.007228</td>\n",
       "      <td>-0.007228</td>\n",
       "      <td>-0.007228</td>\n",
       "      <td>-0.007228</td>\n",
       "      <td>-0.007228</td>\n",
       "      <td>-0.007228</td>\n",
       "      <td>Subject1</td>\n",
       "      <td>Post</td>\n",
       "      <td>CD4 EM 2</td>\n",
       "      <td>0</td>\n",
       "    </tr>\n",
       "    <tr>\n",
       "      <th>Subject1_8WPH_AACTTTCTCAGCGATT-1</th>\n",
       "      <td>-0.007228</td>\n",
       "      <td>-0.024929</td>\n",
       "      <td>-0.007228</td>\n",
       "      <td>-0.16344</td>\n",
       "      <td>-0.015375</td>\n",
       "      <td>-0.129093</td>\n",
       "      <td>-0.04986</td>\n",
       "      <td>-0.007228</td>\n",
       "      <td>-0.024386</td>\n",
       "      <td>-0.404232</td>\n",
       "      <td>...</td>\n",
       "      <td>-0.007228</td>\n",
       "      <td>-0.007228</td>\n",
       "      <td>-0.007228</td>\n",
       "      <td>-0.007228</td>\n",
       "      <td>-0.007228</td>\n",
       "      <td>-0.007228</td>\n",
       "      <td>Subject1</td>\n",
       "      <td>Post</td>\n",
       "      <td>CD4 EM 3</td>\n",
       "      <td>0</td>\n",
       "    </tr>\n",
       "  </tbody>\n",
       "</table>\n",
       "<p>2 rows × 24957 columns</p>\n",
       "</div>"
      ],
      "text/plain": [
       "                                  MIR1302_2HG  AL627309_1  AL627309_3  \\\n",
       "Subject1_8WPH_AACTTTCCACTTAAGC-1    -0.007228   -0.024929   -0.007228   \n",
       "Subject1_8WPH_AACTTTCTCAGCGATT-1    -0.007228   -0.024929   -0.007228   \n",
       "\n",
       "                                  AL669831_5    FAM87B  LINC00115   FAM41C  \\\n",
       "Subject1_8WPH_AACTTTCCACTTAAGC-1    -0.16344 -0.015375  -0.129093 -0.04986   \n",
       "Subject1_8WPH_AACTTTCTCAGCGATT-1    -0.16344 -0.015375  -0.129093 -0.04986   \n",
       "\n",
       "                                  AL645608_7    SAMD11     NOC2L  ...  \\\n",
       "Subject1_8WPH_AACTTTCCACTTAAGC-1   -0.007228 -0.024386 -0.404232  ...   \n",
       "Subject1_8WPH_AACTTTCTCAGCGATT-1   -0.007228 -0.024386 -0.404232  ...   \n",
       "\n",
       "                                  HSV2_UL23  HSV2_UL26  HSV2_UL47  HSV2_UL49  \\\n",
       "Subject1_8WPH_AACTTTCCACTTAAGC-1  -0.007228  -0.007228  -0.007228  -0.007228   \n",
       "Subject1_8WPH_AACTTTCTCAGCGATT-1  -0.007228  -0.007228  -0.007228  -0.007228   \n",
       "\n",
       "                                  HSV2_UL50  HSV2_US9   Subject  Status  \\\n",
       "Subject1_8WPH_AACTTTCCACTTAAGC-1  -0.007228 -0.007228  Subject1    Post   \n",
       "Subject1_8WPH_AACTTTCTCAGCGATT-1  -0.007228 -0.007228  Subject1    Post   \n",
       "\n",
       "                                  CellType_Level3  IFNG_bin  \n",
       "Subject1_8WPH_AACTTTCCACTTAAGC-1         CD4 EM 2         0  \n",
       "Subject1_8WPH_AACTTTCTCAGCGATT-1         CD4 EM 3         0  \n",
       "\n",
       "[2 rows x 24957 columns]"
      ]
     },
     "execution_count": 19,
     "metadata": {},
     "output_type": "execute_result"
    }
   ],
   "source": [
    "# scaling prior glm modeling\n",
    "exp_matrix_featureSel = exp_meta_df.copy()\n",
    "#scaler = MinMaxScaler(feature_range=(0, 1))\n",
    "scaler = StandardScaler()\n",
    "columns_to_scale = exp_matrix_featureSel.columns.difference(['Subject', 'Status', 'CellType_Level3', 'IFNG_bin'])\n",
    "exp_matrix_featureSel[columns_to_scale] = scaler.fit_transform(exp_matrix_featureSel[columns_to_scale])\n",
    "exp_matrix_featureSel.head(2)"
   ]
  },
  {
   "cell_type": "markdown",
   "id": "b4911c53-994c-4e56-b876-d88d28f03ef3",
   "metadata": {},
   "source": [
    "### (1) Apply GLM model to filter variables, end up with 650+ variables highly associated with IFNG expression"
   ]
  },
  {
   "cell_type": "code",
   "execution_count": 20,
   "id": "8e20bc22-39cf-4743-9220-4153a617bf23",
   "metadata": {},
   "outputs": [
    {
     "name": "stderr",
     "output_type": "stream",
     "text": [
      "/home/jhou2/.local/lib/python3.11/site-packages/statsmodels/genmod/generalized_linear_model.py:1342: PerfectSeparationWarning: Perfect separation or prediction detected, parameter may not be identified\n",
      "  warnings.warn(msg, category=PerfectSeparationWarning)\n",
      "/home/jhou2/.local/lib/python3.11/site-packages/statsmodels/genmod/generalized_linear_model.py:1342: PerfectSeparationWarning: Perfect separation or prediction detected, parameter may not be identified\n",
      "  warnings.warn(msg, category=PerfectSeparationWarning)\n",
      "/home/jhou2/.local/lib/python3.11/site-packages/statsmodels/genmod/generalized_linear_model.py:1342: PerfectSeparationWarning: Perfect separation or prediction detected, parameter may not be identified\n",
      "  warnings.warn(msg, category=PerfectSeparationWarning)\n",
      "/home/jhou2/.local/lib/python3.11/site-packages/statsmodels/genmod/generalized_linear_model.py:1342: PerfectSeparationWarning: Perfect separation or prediction detected, parameter may not be identified\n",
      "  warnings.warn(msg, category=PerfectSeparationWarning)\n",
      "/home/jhou2/.local/lib/python3.11/site-packages/statsmodels/genmod/generalized_linear_model.py:1342: PerfectSeparationWarning: Perfect separation or prediction detected, parameter may not be identified\n",
      "  warnings.warn(msg, category=PerfectSeparationWarning)\n",
      "/home/jhou2/.local/lib/python3.11/site-packages/statsmodels/genmod/generalized_linear_model.py:1342: PerfectSeparationWarning: Perfect separation or prediction detected, parameter may not be identified\n",
      "  warnings.warn(msg, category=PerfectSeparationWarning)\n",
      "/home/jhou2/.local/lib/python3.11/site-packages/statsmodels/genmod/generalized_linear_model.py:1342: PerfectSeparationWarning: Perfect separation or prediction detected, parameter may not be identified\n",
      "  warnings.warn(msg, category=PerfectSeparationWarning)\n",
      "/home/jhou2/.local/lib/python3.11/site-packages/statsmodels/genmod/generalized_linear_model.py:1342: PerfectSeparationWarning: Perfect separation or prediction detected, parameter may not be identified\n",
      "  warnings.warn(msg, category=PerfectSeparationWarning)\n",
      "/home/jhou2/.local/lib/python3.11/site-packages/statsmodels/genmod/generalized_linear_model.py:1342: PerfectSeparationWarning: Perfect separation or prediction detected, parameter may not be identified\n",
      "  warnings.warn(msg, category=PerfectSeparationWarning)\n",
      "/home/jhou2/.local/lib/python3.11/site-packages/statsmodels/genmod/generalized_linear_model.py:1342: PerfectSeparationWarning: Perfect separation or prediction detected, parameter may not be identified\n",
      "  warnings.warn(msg, category=PerfectSeparationWarning)\n",
      "/home/jhou2/.local/lib/python3.11/site-packages/statsmodels/genmod/generalized_linear_model.py:1342: PerfectSeparationWarning: Perfect separation or prediction detected, parameter may not be identified\n",
      "  warnings.warn(msg, category=PerfectSeparationWarning)\n",
      "/home/jhou2/.local/lib/python3.11/site-packages/statsmodels/genmod/generalized_linear_model.py:1342: PerfectSeparationWarning: Perfect separation or prediction detected, parameter may not be identified\n",
      "  warnings.warn(msg, category=PerfectSeparationWarning)\n",
      "/home/jhou2/.local/lib/python3.11/site-packages/statsmodels/genmod/generalized_linear_model.py:1342: PerfectSeparationWarning: Perfect separation or prediction detected, parameter may not be identified\n",
      "  warnings.warn(msg, category=PerfectSeparationWarning)\n",
      "/home/jhou2/.local/lib/python3.11/site-packages/statsmodels/genmod/generalized_linear_model.py:1342: PerfectSeparationWarning: Perfect separation or prediction detected, parameter may not be identified\n",
      "  warnings.warn(msg, category=PerfectSeparationWarning)\n",
      "/home/jhou2/.local/lib/python3.11/site-packages/statsmodels/genmod/generalized_linear_model.py:1342: PerfectSeparationWarning: Perfect separation or prediction detected, parameter may not be identified\n",
      "  warnings.warn(msg, category=PerfectSeparationWarning)\n"
     ]
    }
   ],
   "source": [
    "# Use GLM model within QuasiPoisson Distribution to model most significant genes associated with IFN_bin\n",
    "results = []\n",
    "\n",
    "gene_columns = [col for col in exp_matrix_featureSel.columns if (col not in ['Subject', 'Status', 'CellType_Level3'])]\n",
    "\n",
    "# Iterate over each gene to fit a quasi-Poisson model or try sm.families.Binomial\n",
    "for gene in gene_columns:\n",
    "    formula = f'IFNG_bin ~ {gene}' # + CellType_Fine + Status\n",
    "    # model = smf.glm(formula=formula, data=exp_matrix_sampling, family=sm.families.Poisson(link = sm.families.links.Log())).fit()\n",
    "    model = smf.glm(formula = formula, data = exp_matrix_featureSel, family = sm.families.Binomial()).fit()\n",
    "    summary = model.summary()\n",
    "    p_value = model.pvalues[1]  # Get the p-value for 'IFNGbin'\n",
    "    results.append((gene, p_value))\n",
    "\n",
    "# Convert results to a DataFrame\n",
    "results_df = pd.DataFrame(results, columns=['Gene', 'P_value'])\n",
    "\n",
    "# Adjusting p-values for multiple testing, for example using Bonferroni correction\n",
    "rejected, corrected_p_values, _, _ = multipletests(results_df['P_value'], method='bonferroni')\n",
    "\n",
    "# Adding corrected p-values to the results DataFrame\n",
    "results_df['Corrected_P_value'] = corrected_p_values"
   ]
  },
  {
   "cell_type": "code",
   "execution_count": 21,
   "id": "328f20cb-ea36-46f2-9dba-13e03e293a61",
   "metadata": {},
   "outputs": [
    {
     "data": {
      "text/html": [
       "<div>\n",
       "<style scoped>\n",
       "    .dataframe tbody tr th:only-of-type {\n",
       "        vertical-align: middle;\n",
       "    }\n",
       "\n",
       "    .dataframe tbody tr th {\n",
       "        vertical-align: top;\n",
       "    }\n",
       "\n",
       "    .dataframe thead th {\n",
       "        text-align: right;\n",
       "    }\n",
       "</style>\n",
       "<table border=\"1\" class=\"dataframe\">\n",
       "  <thead>\n",
       "    <tr style=\"text-align: right;\">\n",
       "      <th></th>\n",
       "      <th>Gene</th>\n",
       "      <th>P_value</th>\n",
       "      <th>Corrected_P_value</th>\n",
       "    </tr>\n",
       "  </thead>\n",
       "  <tbody>\n",
       "    <tr>\n",
       "      <th>117</th>\n",
       "      <td>ACOT7</td>\n",
       "      <td>1.550692e-10</td>\n",
       "      <td>3.869596e-06</td>\n",
       "    </tr>\n",
       "    <tr>\n",
       "      <th>121</th>\n",
       "      <td>TNFRSF25</td>\n",
       "      <td>1.722342e-08</td>\n",
       "      <td>4.297932e-04</td>\n",
       "    </tr>\n",
       "    <tr>\n",
       "      <th>137</th>\n",
       "      <td>TNFRSF9</td>\n",
       "      <td>7.024480e-20</td>\n",
       "      <td>1.752889e-15</td>\n",
       "    </tr>\n",
       "    <tr>\n",
       "      <th>199</th>\n",
       "      <td>FBXO6</td>\n",
       "      <td>1.822252e-12</td>\n",
       "      <td>4.547247e-08</td>\n",
       "    </tr>\n",
       "    <tr>\n",
       "      <th>200</th>\n",
       "      <td>MAD2L2</td>\n",
       "      <td>3.824419e-11</td>\n",
       "      <td>9.543456e-07</td>\n",
       "    </tr>\n",
       "    <tr>\n",
       "      <th>...</th>\n",
       "      <td>...</td>\n",
       "      <td>...</td>\n",
       "      <td>...</td>\n",
       "    </tr>\n",
       "    <tr>\n",
       "      <th>24686</th>\n",
       "      <td>MIR155HG</td>\n",
       "      <td>2.166036e-30</td>\n",
       "      <td>5.405125e-26</td>\n",
       "    </tr>\n",
       "    <tr>\n",
       "      <th>24692</th>\n",
       "      <td>APP</td>\n",
       "      <td>1.195740e-10</td>\n",
       "      <td>2.983850e-06</td>\n",
       "    </tr>\n",
       "    <tr>\n",
       "      <th>24716</th>\n",
       "      <td>TIAM1</td>\n",
       "      <td>9.096449e-07</td>\n",
       "      <td>2.269928e-02</td>\n",
       "    </tr>\n",
       "    <tr>\n",
       "      <th>24792</th>\n",
       "      <td>TTC3</td>\n",
       "      <td>1.339214e-07</td>\n",
       "      <td>3.341875e-03</td>\n",
       "    </tr>\n",
       "    <tr>\n",
       "      <th>24894</th>\n",
       "      <td>ITGB2</td>\n",
       "      <td>3.292673e-13</td>\n",
       "      <td>8.216536e-09</td>\n",
       "    </tr>\n",
       "  </tbody>\n",
       "</table>\n",
       "<p>625 rows × 3 columns</p>\n",
       "</div>"
      ],
      "text/plain": [
       "           Gene       P_value  Corrected_P_value\n",
       "117       ACOT7  1.550692e-10       3.869596e-06\n",
       "121    TNFRSF25  1.722342e-08       4.297932e-04\n",
       "137     TNFRSF9  7.024480e-20       1.752889e-15\n",
       "199       FBXO6  1.822252e-12       4.547247e-08\n",
       "200      MAD2L2  3.824419e-11       9.543456e-07\n",
       "...         ...           ...                ...\n",
       "24686  MIR155HG  2.166036e-30       5.405125e-26\n",
       "24692       APP  1.195740e-10       2.983850e-06\n",
       "24716     TIAM1  9.096449e-07       2.269928e-02\n",
       "24792      TTC3  1.339214e-07       3.341875e-03\n",
       "24894     ITGB2  3.292673e-13       8.216536e-09\n",
       "\n",
       "[625 rows x 3 columns]"
      ]
     },
     "execution_count": 21,
     "metadata": {},
     "output_type": "execute_result"
    }
   ],
   "source": [
    "# Identifying significant genes\n",
    "significant_genes = results_df[results_df['Corrected_P_value'] < 0.05]\n",
    "significant_genes"
   ]
  },
  {
   "cell_type": "markdown",
   "id": "878ac3b2-b80e-4270-8c13-f013ad3bb735",
   "metadata": {},
   "source": [
    "### (2) Apply Lasso model by using L1 penalty to further narrow down the feature selection"
   ]
  },
  {
   "cell_type": "code",
   "execution_count": 22,
   "id": "fee3a0e4-03d9-4992-82e0-371980a8df8f",
   "metadata": {},
   "outputs": [],
   "source": [
    "# Prepare your data (excluding the target 'IFNG_bin' and any categorical columns like 'CellType_Level3')\n",
    "X = exp_matrix_featureSel.drop(columns=['Subject', 'Status', 'IFNG_bin', 'CellType_Level3'])\n",
    "y = exp_matrix_featureSel['IFNG_bin']\n",
    "\n",
    "# Subset the data to only include selected genes (from p-value filtering or feature importance)\n",
    "significant_gene_list = significant_genes['Gene'].tolist()  # Extract the list of genes\n",
    "X = X[significant_gene_list]"
   ]
  },
  {
   "cell_type": "code",
   "execution_count": 23,
   "id": "b13f4b66-6264-473d-b136-21b9e04b47a0",
   "metadata": {},
   "outputs": [
    {
     "name": "stdout",
     "output_type": "stream",
     "text": [
      "Best C parameter: [0.00599484]\n"
     ]
    }
   ],
   "source": [
    "# Step 1: Apply LogisticRegressionCV with L1 regularization and cross-validation to find the best C\n",
    "lasso_cv = LogisticRegressionCV(penalty='l1', solver='saga', max_iter=10000, cv=5)\n",
    "lasso_cv.fit(X, y)\n",
    "\n",
    "# Step 2: Retrieve the best C parameter from cross-validation\n",
    "best_C = lasso_cv.C_\n",
    "print(f\"Best C parameter: {best_C}\")"
   ]
  },
  {
   "cell_type": "code",
   "execution_count": 24,
   "id": "2c35da1f-1a4b-4f99-a5d0-96c7987dbb9d",
   "metadata": {},
   "outputs": [
    {
     "name": "stderr",
     "output_type": "stream",
     "text": [
      "/loc/scratch/6977481/ipykernel_28657/1868559734.py:2: DeprecationWarning: Conversion of an array with ndim > 0 to a scalar is deprecated, and will error in future. Ensure you extract a single element from your array before performing this operation. (Deprecated NumPy 1.25.)\n",
      "  lasso = LogisticRegression(penalty='l1', solver='saga', max_iter=10000, C=float(best_C))\n"
     ]
    },
    {
     "data": {
      "text/html": [
       "<style>#sk-container-id-2 {color: black;}#sk-container-id-2 pre{padding: 0;}#sk-container-id-2 div.sk-toggleable {background-color: white;}#sk-container-id-2 label.sk-toggleable__label {cursor: pointer;display: block;width: 100%;margin-bottom: 0;padding: 0.3em;box-sizing: border-box;text-align: center;}#sk-container-id-2 label.sk-toggleable__label-arrow:before {content: \"▸\";float: left;margin-right: 0.25em;color: #696969;}#sk-container-id-2 label.sk-toggleable__label-arrow:hover:before {color: black;}#sk-container-id-2 div.sk-estimator:hover label.sk-toggleable__label-arrow:before {color: black;}#sk-container-id-2 div.sk-toggleable__content {max-height: 0;max-width: 0;overflow: hidden;text-align: left;background-color: #f0f8ff;}#sk-container-id-2 div.sk-toggleable__content pre {margin: 0.2em;color: black;border-radius: 0.25em;background-color: #f0f8ff;}#sk-container-id-2 input.sk-toggleable__control:checked~div.sk-toggleable__content {max-height: 200px;max-width: 100%;overflow: auto;}#sk-container-id-2 input.sk-toggleable__control:checked~label.sk-toggleable__label-arrow:before {content: \"▾\";}#sk-container-id-2 div.sk-estimator input.sk-toggleable__control:checked~label.sk-toggleable__label {background-color: #d4ebff;}#sk-container-id-2 div.sk-label input.sk-toggleable__control:checked~label.sk-toggleable__label {background-color: #d4ebff;}#sk-container-id-2 input.sk-hidden--visually {border: 0;clip: rect(1px 1px 1px 1px);clip: rect(1px, 1px, 1px, 1px);height: 1px;margin: -1px;overflow: hidden;padding: 0;position: absolute;width: 1px;}#sk-container-id-2 div.sk-estimator {font-family: monospace;background-color: #f0f8ff;border: 1px dotted black;border-radius: 0.25em;box-sizing: border-box;margin-bottom: 0.5em;}#sk-container-id-2 div.sk-estimator:hover {background-color: #d4ebff;}#sk-container-id-2 div.sk-parallel-item::after {content: \"\";width: 100%;border-bottom: 1px solid gray;flex-grow: 1;}#sk-container-id-2 div.sk-label:hover label.sk-toggleable__label {background-color: #d4ebff;}#sk-container-id-2 div.sk-serial::before {content: \"\";position: absolute;border-left: 1px solid gray;box-sizing: border-box;top: 0;bottom: 0;left: 50%;z-index: 0;}#sk-container-id-2 div.sk-serial {display: flex;flex-direction: column;align-items: center;background-color: white;padding-right: 0.2em;padding-left: 0.2em;position: relative;}#sk-container-id-2 div.sk-item {position: relative;z-index: 1;}#sk-container-id-2 div.sk-parallel {display: flex;align-items: stretch;justify-content: center;background-color: white;position: relative;}#sk-container-id-2 div.sk-item::before, #sk-container-id-2 div.sk-parallel-item::before {content: \"\";position: absolute;border-left: 1px solid gray;box-sizing: border-box;top: 0;bottom: 0;left: 50%;z-index: -1;}#sk-container-id-2 div.sk-parallel-item {display: flex;flex-direction: column;z-index: 1;position: relative;background-color: white;}#sk-container-id-2 div.sk-parallel-item:first-child::after {align-self: flex-end;width: 50%;}#sk-container-id-2 div.sk-parallel-item:last-child::after {align-self: flex-start;width: 50%;}#sk-container-id-2 div.sk-parallel-item:only-child::after {width: 0;}#sk-container-id-2 div.sk-dashed-wrapped {border: 1px dashed gray;margin: 0 0.4em 0.5em 0.4em;box-sizing: border-box;padding-bottom: 0.4em;background-color: white;}#sk-container-id-2 div.sk-label label {font-family: monospace;font-weight: bold;display: inline-block;line-height: 1.2em;}#sk-container-id-2 div.sk-label-container {text-align: center;}#sk-container-id-2 div.sk-container {/* jupyter's `normalize.less` sets `[hidden] { display: none; }` but bootstrap.min.css set `[hidden] { display: none !important; }` so we also need the `!important` here to be able to override the default hidden behavior on the sphinx rendered scikit-learn.org. See: https://github.com/scikit-learn/scikit-learn/issues/21755 */display: inline-block !important;position: relative;}#sk-container-id-2 div.sk-text-repr-fallback {display: none;}</style><div id=\"sk-container-id-2\" class=\"sk-top-container\"><div class=\"sk-text-repr-fallback\"><pre>LogisticRegression(C=0.005994842503189409, max_iter=10000, penalty=&#x27;l1&#x27;,\n",
       "                   solver=&#x27;saga&#x27;)</pre><b>In a Jupyter environment, please rerun this cell to show the HTML representation or trust the notebook. <br />On GitHub, the HTML representation is unable to render, please try loading this page with nbviewer.org.</b></div><div class=\"sk-container\" hidden><div class=\"sk-item\"><div class=\"sk-estimator sk-toggleable\"><input class=\"sk-toggleable__control sk-hidden--visually\" id=\"sk-estimator-id-2\" type=\"checkbox\" checked><label for=\"sk-estimator-id-2\" class=\"sk-toggleable__label sk-toggleable__label-arrow\">LogisticRegression</label><div class=\"sk-toggleable__content\"><pre>LogisticRegression(C=0.005994842503189409, max_iter=10000, penalty=&#x27;l1&#x27;,\n",
       "                   solver=&#x27;saga&#x27;)</pre></div></div></div></div></div>"
      ],
      "text/plain": [
       "LogisticRegression(C=0.005994842503189409, max_iter=10000, penalty='l1',\n",
       "                   solver='saga')"
      ]
     },
     "execution_count": 24,
     "metadata": {},
     "output_type": "execute_result"
    }
   ],
   "source": [
    "# Step 3: Retrain the model using the best C\n",
    "lasso = LogisticRegression(penalty='l1', solver='saga', max_iter=10000, C=float(best_C))\n",
    "lasso.fit(X, y)"
   ]
  },
  {
   "cell_type": "code",
   "execution_count": 25,
   "id": "f9a86b6c-fd1d-40c7-a09b-f12100999d6e",
   "metadata": {},
   "outputs": [
    {
     "name": "stdout",
     "output_type": "stream",
     "text": [
      "       Gene  Coefficient\n",
      "520    CCL5     0.224936\n",
      "523    CCL4     0.173872\n",
      "414    CD69     0.124025\n",
      "203     TNF     0.103572\n",
      "169    IL7R    -0.100408\n",
      "..      ...          ...\n",
      "41   SLAMF7     0.000582\n",
      "26     CSF1     0.000553\n",
      "183    EGR1     0.000478\n",
      "118   EOMES     0.000214\n",
      "241   TAGAP     0.000213\n",
      "\n",
      "[101 rows x 2 columns]\n"
     ]
    }
   ],
   "source": [
    "# Step 4: Extract the coefficients and create a DataFrame of features with their coefficients\n",
    "coefficients = lasso.coef_[0]\n",
    "feature_importance = pd.DataFrame({\n",
    "    'Gene': X.columns,\n",
    "    'Coefficient': coefficients\n",
    "})\n",
    "\n",
    "# Step 5: Select genes with non-zero coefficients\n",
    "selected_significant_genes = feature_importance[feature_importance['Coefficient'] != 0]\n",
    "\n",
    "# Step 6: Sort the selected genes by the absolute value of their coefficients\n",
    "selected_significant_genes = selected_significant_genes.sort_values(by='Coefficient', key=abs, ascending=False)\n",
    "\n",
    "# Display the selected genes\n",
    "print(selected_significant_genes)"
   ]
  },
  {
   "cell_type": "code",
   "execution_count": 26,
   "id": "fdc7421b-98ac-412e-a89f-e014e85d9ab7",
   "metadata": {},
   "outputs": [
    {
     "data": {
      "text/plain": [
       "['Processed/HSV434_Tcell_IFNG_mechanism_ML_Original_significant_genes']"
      ]
     },
     "execution_count": 26,
     "metadata": {},
     "output_type": "execute_result"
    }
   ],
   "source": [
    "# Save up\n",
    "dump(selected_significant_genes, 'Processed/HSV434_Tcell_IFNG_mechanism_ML_Original_significant_genes')"
   ]
  },
  {
   "cell_type": "code",
   "execution_count": null,
   "id": "db841a69-d198-4c0b-a483-df607dca29bf",
   "metadata": {},
   "outputs": [],
   "source": []
  }
 ],
 "metadata": {
  "kernelspec": {
   "display_name": "Python 3 (ipykernel)",
   "language": "python",
   "name": "python3"
  },
  "language_info": {
   "codemirror_mode": {
    "name": "ipython",
    "version": 3
   },
   "file_extension": ".py",
   "mimetype": "text/x-python",
   "name": "python",
   "nbconvert_exporter": "python",
   "pygments_lexer": "ipython3",
   "version": "3.11.3"
  }
 },
 "nbformat": 4,
 "nbformat_minor": 5
}
