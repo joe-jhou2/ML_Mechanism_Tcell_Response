{
 "cells": [
  {
   "cell_type": "code",
   "execution_count": 1,
   "id": "c38d76c8-2fd3-4aeb-a809-c58448b5b93e",
   "metadata": {},
   "outputs": [
    {
     "data": {
      "text/plain": [
       "'/home/jhou2/HSV434/LandscapeProject/HSV434-IFNG-mechanism/Code'"
      ]
     },
     "execution_count": 1,
     "metadata": {},
     "output_type": "execute_result"
    }
   ],
   "source": [
    "# Basic\n",
    "import os\n",
    "import pandas as pd \n",
    "import numpy as np\n",
    "import matplotlib.pyplot as plt\n",
    "import matplotlib.pylab as pl\n",
    "from joblib import dump, load\n",
    "import pickle\n",
    "\n",
    "# GLM\n",
    "import statsmodels.api as sm\n",
    "import statsmodels.formula.api as smf\n",
    "from statsmodels.genmod.families import family\n",
    "from statsmodels.stats.multitest import multipletests\n",
    " \n",
    "# Modelling\n",
    "from sklearn.preprocessing import MinMaxScaler, StandardScaler\n",
    "from sklearn.linear_model import Ridge, Lasso, RidgeCV, LassoCV, ElasticNet, LogisticRegression\n",
    "from sklearn.svm import SVR, SVC\n",
    "from sklearn.ensemble import RandomForestRegressor, RandomForestClassifier, GradientBoostingRegressor, GradientBoostingClassifier, StackingRegressor, StackingClassifier\n",
    "from xgboost import XGBRegressor, XGBClassifier\n",
    "import xgboost\n",
    "from sklearn.pipeline import Pipeline\n",
    "from sklearn.feature_selection import SelectFromModel\n",
    "from mlxtend.regressor import StackingCVRegressor\n",
    "from skopt import BayesSearchCV\n",
    "from skopt.space import Real, Categorical, Integer\n",
    "\n",
    "# SHAP\n",
    "import shap\n",
    "\n",
    "# Mertrics\n",
    "from sklearn.metrics import mean_absolute_error, mean_squared_error, accuracy_score, confusion_matrix, precision_score, roc_curve, recall_score, precision_recall_curve, precision_recall_fscore_support, roc_auc_score, ConfusionMatrixDisplay, r2_score\n",
    "from sklearn.model_selection import GridSearchCV, RandomizedSearchCV, train_test_split, cross_val_score\n",
    "from scipy.stats import randint\n",
    "from sklearn.metrics import classification_report\n",
    "\n",
    "# Tree Visualisation\n",
    "from sklearn.tree import export_graphviz\n",
    "from IPython.display import Image\n",
    "\n",
    "# import graphviz\n",
    "%matplotlib inline\n",
    "\n",
    "# glance wd\n",
    "os.getcwd()"
   ]
  },
  {
   "cell_type": "code",
   "execution_count": 2,
   "id": "03be4525-0991-44ab-ac81-fffc1369febe",
   "metadata": {},
   "outputs": [],
   "source": [
    "os.chdir('/home/jhou2/HSV434/LandscapeProject/HSV434-IFNG-mechanism')"
   ]
  },
  {
   "cell_type": "markdown",
   "id": "d5a46487-4ecd-40b6-a60b-fb61ffb7892d",
   "metadata": {},
   "source": [
    "### Preprocessing data for ML: \n",
    "### Feature filtering based on significant gene, one-hot/Ordinal coding categorical features, scaling"
   ]
  },
  {
   "cell_type": "code",
   "execution_count": 3,
   "id": "4d0b0494-ae2f-458f-8a69-e49507b2a229",
   "metadata": {},
   "outputs": [],
   "source": [
    "# Load data and selected gene\n",
    "significant_genes = load('Processed/HSV434_Tcell_IFNG_mechanism_ML_UnderSampling_significant_genes')\n",
    "exp_matrix_UnderSampling = load('Processed/HSV434_Tcell_IFNG_mechanism_exp_matrix_UnderSampling')"
   ]
  },
  {
   "cell_type": "code",
   "execution_count": 5,
   "id": "4b7c96ab-3aa0-46f8-b881-0106c13bbb2f",
   "metadata": {},
   "outputs": [
    {
     "data": {
      "text/html": [
       "<div>\n",
       "<style scoped>\n",
       "    .dataframe tbody tr th:only-of-type {\n",
       "        vertical-align: middle;\n",
       "    }\n",
       "\n",
       "    .dataframe tbody tr th {\n",
       "        vertical-align: top;\n",
       "    }\n",
       "\n",
       "    .dataframe thead th {\n",
       "        text-align: right;\n",
       "    }\n",
       "</style>\n",
       "<table border=\"1\" class=\"dataframe\">\n",
       "  <thead>\n",
       "    <tr style=\"text-align: right;\">\n",
       "      <th></th>\n",
       "      <th>CellType_Level3</th>\n",
       "      <th>Status</th>\n",
       "      <th>IFNG_bin</th>\n",
       "      <th>MAD2L2</th>\n",
       "      <th>RSRP1</th>\n",
       "      <th>JUN</th>\n",
       "      <th>IL12RB2</th>\n",
       "      <th>S1PR1</th>\n",
       "      <th>CSF1</th>\n",
       "      <th>AC245014_3</th>\n",
       "      <th>...</th>\n",
       "      <th>JUNB</th>\n",
       "      <th>JUND</th>\n",
       "      <th>NFKBID</th>\n",
       "      <th>ZFP36</th>\n",
       "      <th>RELB</th>\n",
       "      <th>FOSB</th>\n",
       "      <th>PPP1R15A</th>\n",
       "      <th>NKG7</th>\n",
       "      <th>UBE2S</th>\n",
       "      <th>MIR155HG</th>\n",
       "    </tr>\n",
       "  </thead>\n",
       "  <tbody>\n",
       "    <tr>\n",
       "      <th>0</th>\n",
       "      <td>CD4 CM</td>\n",
       "      <td>Prior</td>\n",
       "      <td>1</td>\n",
       "      <td>0.0</td>\n",
       "      <td>1.727663</td>\n",
       "      <td>2.327763</td>\n",
       "      <td>0.0</td>\n",
       "      <td>0.000000</td>\n",
       "      <td>0.0</td>\n",
       "      <td>0.0</td>\n",
       "      <td>...</td>\n",
       "      <td>3.638110</td>\n",
       "      <td>3.949364</td>\n",
       "      <td>0.0</td>\n",
       "      <td>0.000000</td>\n",
       "      <td>0.000000</td>\n",
       "      <td>1.727663</td>\n",
       "      <td>1.727663</td>\n",
       "      <td>0.000000</td>\n",
       "      <td>1.727663</td>\n",
       "      <td>0.0</td>\n",
       "    </tr>\n",
       "    <tr>\n",
       "      <th>1</th>\n",
       "      <td>CD4 CM</td>\n",
       "      <td>Lesion</td>\n",
       "      <td>1</td>\n",
       "      <td>0.0</td>\n",
       "      <td>1.524025</td>\n",
       "      <td>0.000000</td>\n",
       "      <td>0.0</td>\n",
       "      <td>1.524025</td>\n",
       "      <td>0.0</td>\n",
       "      <td>0.0</td>\n",
       "      <td>...</td>\n",
       "      <td>0.000000</td>\n",
       "      <td>1.524025</td>\n",
       "      <td>0.0</td>\n",
       "      <td>2.941979</td>\n",
       "      <td>1.524025</td>\n",
       "      <td>0.000000</td>\n",
       "      <td>0.000000</td>\n",
       "      <td>3.263262</td>\n",
       "      <td>0.000000</td>\n",
       "      <td>0.0</td>\n",
       "    </tr>\n",
       "    <tr>\n",
       "      <th>2</th>\n",
       "      <td>CD4 CM</td>\n",
       "      <td>Post</td>\n",
       "      <td>1</td>\n",
       "      <td>0.0</td>\n",
       "      <td>0.000000</td>\n",
       "      <td>2.878519</td>\n",
       "      <td>0.0</td>\n",
       "      <td>0.000000</td>\n",
       "      <td>0.0</td>\n",
       "      <td>0.0</td>\n",
       "      <td>...</td>\n",
       "      <td>4.373788</td>\n",
       "      <td>4.042344</td>\n",
       "      <td>0.0</td>\n",
       "      <td>3.366601</td>\n",
       "      <td>0.000000</td>\n",
       "      <td>3.366601</td>\n",
       "      <td>2.878519</td>\n",
       "      <td>1.886459</td>\n",
       "      <td>0.000000</td>\n",
       "      <td>0.0</td>\n",
       "    </tr>\n",
       "  </tbody>\n",
       "</table>\n",
       "<p>3 rows × 123 columns</p>\n",
       "</div>"
      ],
      "text/plain": [
       "  CellType_Level3  Status  IFNG_bin  MAD2L2     RSRP1       JUN  IL12RB2  \\\n",
       "0          CD4 CM   Prior         1     0.0  1.727663  2.327763      0.0   \n",
       "1          CD4 CM  Lesion         1     0.0  1.524025  0.000000      0.0   \n",
       "2          CD4 CM    Post         1     0.0  0.000000  2.878519      0.0   \n",
       "\n",
       "      S1PR1  CSF1  AC245014_3  ...      JUNB      JUND  NFKBID     ZFP36  \\\n",
       "0  0.000000   0.0         0.0  ...  3.638110  3.949364     0.0  0.000000   \n",
       "1  1.524025   0.0         0.0  ...  0.000000  1.524025     0.0  2.941979   \n",
       "2  0.000000   0.0         0.0  ...  4.373788  4.042344     0.0  3.366601   \n",
       "\n",
       "       RELB      FOSB  PPP1R15A      NKG7     UBE2S  MIR155HG  \n",
       "0  0.000000  1.727663  1.727663  0.000000  1.727663       0.0  \n",
       "1  1.524025  0.000000  0.000000  3.263262  0.000000       0.0  \n",
       "2  0.000000  3.366601  2.878519  1.886459  0.000000       0.0  \n",
       "\n",
       "[3 rows x 123 columns]"
      ]
     },
     "execution_count": 5,
     "metadata": {},
     "output_type": "execute_result"
    }
   ],
   "source": [
    "# Select data based on significant_genes\n",
    "if 'IFNG' not in significant_genes['Gene']:\n",
    "    gene_names = significant_genes['Gene'].tolist()\n",
    "    # assume CellType and Status may play roles here\n",
    "    columns_to_select = ['CellType_Level3', 'Status', 'IFNG_bin']\n",
    "    columns_to_select.extend(gene_names)\n",
    "\n",
    "exp_matrix_UnderSampling_select = exp_matrix_UnderSampling[columns_to_select]\n",
    "exp_matrix_UnderSampling_select.head(3)"
   ]
  },
  {
   "cell_type": "code",
   "execution_count": 6,
   "id": "bd1ba8df-d9d1-4662-9ffd-61ea9998c611",
   "metadata": {},
   "outputs": [
    {
     "data": {
      "text/html": [
       "<div>\n",
       "<style scoped>\n",
       "    .dataframe tbody tr th:only-of-type {\n",
       "        vertical-align: middle;\n",
       "    }\n",
       "\n",
       "    .dataframe tbody tr th {\n",
       "        vertical-align: top;\n",
       "    }\n",
       "\n",
       "    .dataframe thead th {\n",
       "        text-align: right;\n",
       "    }\n",
       "</style>\n",
       "<table border=\"1\" class=\"dataframe\">\n",
       "  <thead>\n",
       "    <tr style=\"text-align: right;\">\n",
       "      <th></th>\n",
       "      <th>Status</th>\n",
       "      <th>IFNG_bin</th>\n",
       "      <th>MAD2L2</th>\n",
       "      <th>RSRP1</th>\n",
       "      <th>JUN</th>\n",
       "      <th>IL12RB2</th>\n",
       "      <th>S1PR1</th>\n",
       "      <th>CSF1</th>\n",
       "      <th>AC245014_3</th>\n",
       "      <th>CD160</th>\n",
       "      <th>...</th>\n",
       "      <th>CD4 EM 3</th>\n",
       "      <th>CD4 ISG</th>\n",
       "      <th>CD4 Prolif</th>\n",
       "      <th>CD4 TRM</th>\n",
       "      <th>CD8 CM</th>\n",
       "      <th>CD8 EM 1</th>\n",
       "      <th>CD8 EM 2</th>\n",
       "      <th>CD8 ISG</th>\n",
       "      <th>CD8 TRM 1</th>\n",
       "      <th>CD8 TRM 2</th>\n",
       "    </tr>\n",
       "  </thead>\n",
       "  <tbody>\n",
       "    <tr>\n",
       "      <th>0</th>\n",
       "      <td>Prior</td>\n",
       "      <td>1</td>\n",
       "      <td>0.0</td>\n",
       "      <td>1.727663</td>\n",
       "      <td>2.327763</td>\n",
       "      <td>0.0</td>\n",
       "      <td>0.000000</td>\n",
       "      <td>0.0</td>\n",
       "      <td>0.0</td>\n",
       "      <td>0.0</td>\n",
       "      <td>...</td>\n",
       "      <td>0</td>\n",
       "      <td>0</td>\n",
       "      <td>0</td>\n",
       "      <td>0</td>\n",
       "      <td>0</td>\n",
       "      <td>0</td>\n",
       "      <td>0</td>\n",
       "      <td>0</td>\n",
       "      <td>0</td>\n",
       "      <td>0</td>\n",
       "    </tr>\n",
       "    <tr>\n",
       "      <th>1</th>\n",
       "      <td>Lesion</td>\n",
       "      <td>1</td>\n",
       "      <td>0.0</td>\n",
       "      <td>1.524025</td>\n",
       "      <td>0.000000</td>\n",
       "      <td>0.0</td>\n",
       "      <td>1.524025</td>\n",
       "      <td>0.0</td>\n",
       "      <td>0.0</td>\n",
       "      <td>0.0</td>\n",
       "      <td>...</td>\n",
       "      <td>0</td>\n",
       "      <td>0</td>\n",
       "      <td>0</td>\n",
       "      <td>0</td>\n",
       "      <td>0</td>\n",
       "      <td>0</td>\n",
       "      <td>0</td>\n",
       "      <td>0</td>\n",
       "      <td>0</td>\n",
       "      <td>0</td>\n",
       "    </tr>\n",
       "  </tbody>\n",
       "</table>\n",
       "<p>2 rows × 136 columns</p>\n",
       "</div>"
      ],
      "text/plain": [
       "   Status  IFNG_bin  MAD2L2     RSRP1       JUN  IL12RB2     S1PR1  CSF1  \\\n",
       "0   Prior         1     0.0  1.727663  2.327763      0.0  0.000000   0.0   \n",
       "1  Lesion         1     0.0  1.524025  0.000000      0.0  1.524025   0.0   \n",
       "\n",
       "   AC245014_3  CD160  ...  CD4 EM 3  CD4 ISG  CD4 Prolif  CD4 TRM  CD8 CM  \\\n",
       "0         0.0    0.0  ...         0        0           0        0       0   \n",
       "1         0.0    0.0  ...         0        0           0        0       0   \n",
       "\n",
       "   CD8 EM 1  CD8 EM 2  CD8 ISG  CD8 TRM 1  CD8 TRM 2  \n",
       "0         0         0        0          0          0  \n",
       "1         0         0        0          0          0  \n",
       "\n",
       "[2 rows x 136 columns]"
      ]
     },
     "execution_count": 6,
     "metadata": {},
     "output_type": "execute_result"
    }
   ],
   "source": [
    "# Cell Type is nominal variable --> one-hot encoding\n",
    "dummies_CellType = pd.get_dummies(exp_matrix_UnderSampling_select.CellType_Level3)\n",
    "dummies_CellType = dummies_CellType.astype(int)\n",
    "# remove Cell Type column\n",
    "exp_matrix_UnderSampling_select = pd.concat([exp_matrix_UnderSampling_select.drop('CellType_Level3', axis=1), dummies_CellType], axis='columns')\n",
    "exp_matrix_UnderSampling_select.head(2)"
   ]
  },
  {
   "cell_type": "code",
   "execution_count": 7,
   "id": "43acd77a-326e-41d1-ab25-739c186722d3",
   "metadata": {},
   "outputs": [
    {
     "data": {
      "text/html": [
       "<div>\n",
       "<style scoped>\n",
       "    .dataframe tbody tr th:only-of-type {\n",
       "        vertical-align: middle;\n",
       "    }\n",
       "\n",
       "    .dataframe tbody tr th {\n",
       "        vertical-align: top;\n",
       "    }\n",
       "\n",
       "    .dataframe thead th {\n",
       "        text-align: right;\n",
       "    }\n",
       "</style>\n",
       "<table border=\"1\" class=\"dataframe\">\n",
       "  <thead>\n",
       "    <tr style=\"text-align: right;\">\n",
       "      <th></th>\n",
       "      <th>Status</th>\n",
       "      <th>IFNG_bin</th>\n",
       "      <th>MAD2L2</th>\n",
       "      <th>RSRP1</th>\n",
       "      <th>JUN</th>\n",
       "      <th>IL12RB2</th>\n",
       "      <th>S1PR1</th>\n",
       "      <th>CSF1</th>\n",
       "      <th>AC245014_3</th>\n",
       "      <th>CD160</th>\n",
       "      <th>...</th>\n",
       "      <th>CD4 EM 3</th>\n",
       "      <th>CD4 ISG</th>\n",
       "      <th>CD4 Prolif</th>\n",
       "      <th>CD4 TRM</th>\n",
       "      <th>CD8 CM</th>\n",
       "      <th>CD8 EM 1</th>\n",
       "      <th>CD8 EM 2</th>\n",
       "      <th>CD8 ISG</th>\n",
       "      <th>CD8 TRM 1</th>\n",
       "      <th>CD8 TRM 2</th>\n",
       "    </tr>\n",
       "  </thead>\n",
       "  <tbody>\n",
       "    <tr>\n",
       "      <th>0</th>\n",
       "      <td>0</td>\n",
       "      <td>1</td>\n",
       "      <td>0.0</td>\n",
       "      <td>1.727663</td>\n",
       "      <td>2.327763</td>\n",
       "      <td>0.0</td>\n",
       "      <td>0.000000</td>\n",
       "      <td>0.0</td>\n",
       "      <td>0.0</td>\n",
       "      <td>0.0</td>\n",
       "      <td>...</td>\n",
       "      <td>0</td>\n",
       "      <td>0</td>\n",
       "      <td>0</td>\n",
       "      <td>0</td>\n",
       "      <td>0</td>\n",
       "      <td>0</td>\n",
       "      <td>0</td>\n",
       "      <td>0</td>\n",
       "      <td>0</td>\n",
       "      <td>0</td>\n",
       "    </tr>\n",
       "    <tr>\n",
       "      <th>1</th>\n",
       "      <td>1</td>\n",
       "      <td>1</td>\n",
       "      <td>0.0</td>\n",
       "      <td>1.524025</td>\n",
       "      <td>0.000000</td>\n",
       "      <td>0.0</td>\n",
       "      <td>1.524025</td>\n",
       "      <td>0.0</td>\n",
       "      <td>0.0</td>\n",
       "      <td>0.0</td>\n",
       "      <td>...</td>\n",
       "      <td>0</td>\n",
       "      <td>0</td>\n",
       "      <td>0</td>\n",
       "      <td>0</td>\n",
       "      <td>0</td>\n",
       "      <td>0</td>\n",
       "      <td>0</td>\n",
       "      <td>0</td>\n",
       "      <td>0</td>\n",
       "      <td>0</td>\n",
       "    </tr>\n",
       "  </tbody>\n",
       "</table>\n",
       "<p>2 rows × 136 columns</p>\n",
       "</div>"
      ],
      "text/plain": [
       "   Status  IFNG_bin  MAD2L2     RSRP1       JUN  IL12RB2     S1PR1  CSF1  \\\n",
       "0       0         1     0.0  1.727663  2.327763      0.0  0.000000   0.0   \n",
       "1       1         1     0.0  1.524025  0.000000      0.0  1.524025   0.0   \n",
       "\n",
       "   AC245014_3  CD160  ...  CD4 EM 3  CD4 ISG  CD4 Prolif  CD4 TRM  CD8 CM  \\\n",
       "0         0.0    0.0  ...         0        0           0        0       0   \n",
       "1         0.0    0.0  ...         0        0           0        0       0   \n",
       "\n",
       "   CD8 EM 1  CD8 EM 2  CD8 ISG  CD8 TRM 1  CD8 TRM 2  \n",
       "0         0         0        0          0          0  \n",
       "1         0         0        0          0          0  \n",
       "\n",
       "[2 rows x 136 columns]"
      ]
     },
     "execution_count": 7,
     "metadata": {},
     "output_type": "execute_result"
    }
   ],
   "source": [
    "# Status is Ordinal variable with inherent order --> Ordinal encoding\n",
    "exp_matrix_UnderSampling_select['Status'].replace(['Prior', 'Lesion', 'Post'], [0, 1, 2], inplace=True)\n",
    "exp_matrix_UnderSampling_select.head(2)"
   ]
  },
  {
   "cell_type": "markdown",
   "id": "70c65436-4b97-49c9-a99e-0228f93996f4",
   "metadata": {},
   "source": [
    "### Spliting data to Train and Test data And scaling "
   ]
  },
  {
   "cell_type": "code",
   "execution_count": 8,
   "id": "dd385eae-fd2b-43ba-82b7-a7cf79eddc19",
   "metadata": {},
   "outputs": [
    {
     "data": {
      "text/html": [
       "<div>\n",
       "<style scoped>\n",
       "    .dataframe tbody tr th:only-of-type {\n",
       "        vertical-align: middle;\n",
       "    }\n",
       "\n",
       "    .dataframe tbody tr th {\n",
       "        vertical-align: top;\n",
       "    }\n",
       "\n",
       "    .dataframe thead th {\n",
       "        text-align: right;\n",
       "    }\n",
       "</style>\n",
       "<table border=\"1\" class=\"dataframe\">\n",
       "  <thead>\n",
       "    <tr style=\"text-align: right;\">\n",
       "      <th></th>\n",
       "      <th>Status</th>\n",
       "      <th>MAD2L2</th>\n",
       "      <th>RSRP1</th>\n",
       "      <th>JUN</th>\n",
       "      <th>IL12RB2</th>\n",
       "      <th>S1PR1</th>\n",
       "      <th>CSF1</th>\n",
       "      <th>AC245014_3</th>\n",
       "      <th>CD160</th>\n",
       "      <th>XCL2</th>\n",
       "      <th>...</th>\n",
       "      <th>CD4 EM 3</th>\n",
       "      <th>CD4 ISG</th>\n",
       "      <th>CD4 Prolif</th>\n",
       "      <th>CD4 TRM</th>\n",
       "      <th>CD8 CM</th>\n",
       "      <th>CD8 EM 1</th>\n",
       "      <th>CD8 EM 2</th>\n",
       "      <th>CD8 ISG</th>\n",
       "      <th>CD8 TRM 1</th>\n",
       "      <th>CD8 TRM 2</th>\n",
       "    </tr>\n",
       "  </thead>\n",
       "  <tbody>\n",
       "    <tr>\n",
       "      <th>0</th>\n",
       "      <td>0</td>\n",
       "      <td>0.0</td>\n",
       "      <td>1.727663</td>\n",
       "      <td>2.327763</td>\n",
       "      <td>0.0</td>\n",
       "      <td>0.000000</td>\n",
       "      <td>0.0</td>\n",
       "      <td>0.0</td>\n",
       "      <td>0.0</td>\n",
       "      <td>0.0</td>\n",
       "      <td>...</td>\n",
       "      <td>0</td>\n",
       "      <td>0</td>\n",
       "      <td>0</td>\n",
       "      <td>0</td>\n",
       "      <td>0</td>\n",
       "      <td>0</td>\n",
       "      <td>0</td>\n",
       "      <td>0</td>\n",
       "      <td>0</td>\n",
       "      <td>0</td>\n",
       "    </tr>\n",
       "    <tr>\n",
       "      <th>1</th>\n",
       "      <td>1</td>\n",
       "      <td>0.0</td>\n",
       "      <td>1.524025</td>\n",
       "      <td>0.000000</td>\n",
       "      <td>0.0</td>\n",
       "      <td>1.524025</td>\n",
       "      <td>0.0</td>\n",
       "      <td>0.0</td>\n",
       "      <td>0.0</td>\n",
       "      <td>0.0</td>\n",
       "      <td>...</td>\n",
       "      <td>0</td>\n",
       "      <td>0</td>\n",
       "      <td>0</td>\n",
       "      <td>0</td>\n",
       "      <td>0</td>\n",
       "      <td>0</td>\n",
       "      <td>0</td>\n",
       "      <td>0</td>\n",
       "      <td>0</td>\n",
       "      <td>0</td>\n",
       "    </tr>\n",
       "  </tbody>\n",
       "</table>\n",
       "<p>2 rows × 135 columns</p>\n",
       "</div>"
      ],
      "text/plain": [
       "   Status  MAD2L2     RSRP1       JUN  IL12RB2     S1PR1  CSF1  AC245014_3  \\\n",
       "0       0     0.0  1.727663  2.327763      0.0  0.000000   0.0         0.0   \n",
       "1       1     0.0  1.524025  0.000000      0.0  1.524025   0.0         0.0   \n",
       "\n",
       "   CD160  XCL2  ...  CD4 EM 3  CD4 ISG  CD4 Prolif  CD4 TRM  CD8 CM  CD8 EM 1  \\\n",
       "0    0.0   0.0  ...         0        0           0        0       0         0   \n",
       "1    0.0   0.0  ...         0        0           0        0       0         0   \n",
       "\n",
       "   CD8 EM 2  CD8 ISG  CD8 TRM 1  CD8 TRM 2  \n",
       "0         0        0          0          0  \n",
       "1         0        0          0          0  \n",
       "\n",
       "[2 rows x 135 columns]"
      ]
     },
     "execution_count": 8,
     "metadata": {},
     "output_type": "execute_result"
    }
   ],
   "source": [
    "# prepare data X and y\n",
    "X = exp_matrix_UnderSampling_select.drop(['IFNG_bin'], axis = 1)\n",
    "X.head(2)"
   ]
  },
  {
   "cell_type": "code",
   "execution_count": 10,
   "id": "69d6c264-851c-49d1-b2af-cdc3c0adb585",
   "metadata": {},
   "outputs": [
    {
     "data": {
      "text/plain": [
       "0    1\n",
       "1    1\n",
       "Name: IFNG_bin, dtype: int64"
      ]
     },
     "execution_count": 10,
     "metadata": {},
     "output_type": "execute_result"
    }
   ],
   "source": [
    "y = exp_matrix_UnderSampling_select['IFNG_bin']\n",
    "y.head(2)"
   ]
  },
  {
   "cell_type": "code",
   "execution_count": 11,
   "id": "713387fa-1117-428f-8ff5-dfc918856420",
   "metadata": {},
   "outputs": [
    {
     "name": "stdout",
     "output_type": "stream",
     "text": [
      "X data shape:(5536, 135)\n",
      " y data shape:(5536,)\n"
     ]
    }
   ],
   "source": [
    "print(f\"X data shape:{X.shape}\\n\",\n",
    "      f\"y data shape:{y.shape}\")"
   ]
  },
  {
   "cell_type": "code",
   "execution_count": 12,
   "id": "6b2a53b1-25d0-4b45-90c1-14e4f1327f24",
   "metadata": {},
   "outputs": [
    {
     "name": "stdout",
     "output_type": "stream",
     "text": [
      "Training data X: (3875, 135), y: (3875,)\n",
      " Testing data X: (1661, 135), y: (1661,)\n"
     ]
    }
   ],
   "source": [
    "# split data into train and test set\n",
    "X_train, X_test, y_train, y_test = train_test_split(X, y, test_size=0.3, stratify=y, random_state=42)\n",
    "print(f\"Training data X: {X_train.shape}, y: {y_train.shape}\\n\",\n",
    "      f\"Testing data X: {X_test.shape}, y: {y_test.shape}\")"
   ]
  },
  {
   "cell_type": "code",
   "execution_count": 13,
   "id": "54578d85-69a3-403d-a492-5f5775a917db",
   "metadata": {},
   "outputs": [
    {
     "name": "stdout",
     "output_type": "stream",
     "text": [
      "Index(['ABHD17A', 'ABLIM1', 'AC245014_3', 'ACTG1', 'ADGRG1', 'ALDOA',\n",
      "       'ALOX5AP', 'ANKRD28', 'ARID5A', 'ATF3',\n",
      "       ...\n",
      "       'UBALD2', 'UBE2S', 'XCL1', 'XCL2', 'XYLT1', 'YIPF5', 'ZEB2', 'ZFP36',\n",
      "       'ZFP36L1', 'ZYX'],\n",
      "      dtype='object', length=120)\n"
     ]
    },
    {
     "data": {
      "text/html": [
       "<div>\n",
       "<style scoped>\n",
       "    .dataframe tbody tr th:only-of-type {\n",
       "        vertical-align: middle;\n",
       "    }\n",
       "\n",
       "    .dataframe tbody tr th {\n",
       "        vertical-align: top;\n",
       "    }\n",
       "\n",
       "    .dataframe thead th {\n",
       "        text-align: right;\n",
       "    }\n",
       "</style>\n",
       "<table border=\"1\" class=\"dataframe\">\n",
       "  <thead>\n",
       "    <tr style=\"text-align: right;\">\n",
       "      <th></th>\n",
       "      <th>Status</th>\n",
       "      <th>MAD2L2</th>\n",
       "      <th>RSRP1</th>\n",
       "      <th>JUN</th>\n",
       "      <th>IL12RB2</th>\n",
       "      <th>S1PR1</th>\n",
       "      <th>CSF1</th>\n",
       "      <th>AC245014_3</th>\n",
       "      <th>CD160</th>\n",
       "      <th>XCL2</th>\n",
       "      <th>...</th>\n",
       "      <th>CD4 EM 3</th>\n",
       "      <th>CD4 ISG</th>\n",
       "      <th>CD4 Prolif</th>\n",
       "      <th>CD4 TRM</th>\n",
       "      <th>CD8 CM</th>\n",
       "      <th>CD8 EM 1</th>\n",
       "      <th>CD8 EM 2</th>\n",
       "      <th>CD8 ISG</th>\n",
       "      <th>CD8 TRM 1</th>\n",
       "      <th>CD8 TRM 2</th>\n",
       "    </tr>\n",
       "  </thead>\n",
       "  <tbody>\n",
       "    <tr>\n",
       "      <th>4749</th>\n",
       "      <td>2</td>\n",
       "      <td>1.658083</td>\n",
       "      <td>0.100007</td>\n",
       "      <td>-1.053833</td>\n",
       "      <td>2.007985</td>\n",
       "      <td>-0.277073</td>\n",
       "      <td>-0.361033</td>\n",
       "      <td>-0.188688</td>\n",
       "      <td>-0.197934</td>\n",
       "      <td>-0.428727</td>\n",
       "      <td>...</td>\n",
       "      <td>0</td>\n",
       "      <td>0</td>\n",
       "      <td>0</td>\n",
       "      <td>0</td>\n",
       "      <td>0</td>\n",
       "      <td>0</td>\n",
       "      <td>0</td>\n",
       "      <td>0</td>\n",
       "      <td>1</td>\n",
       "      <td>0</td>\n",
       "    </tr>\n",
       "    <tr>\n",
       "      <th>4808</th>\n",
       "      <td>1</td>\n",
       "      <td>-0.461597</td>\n",
       "      <td>0.196776</td>\n",
       "      <td>0.776537</td>\n",
       "      <td>-0.448011</td>\n",
       "      <td>2.829140</td>\n",
       "      <td>-0.361033</td>\n",
       "      <td>-0.188688</td>\n",
       "      <td>-0.197934</td>\n",
       "      <td>-0.428727</td>\n",
       "      <td>...</td>\n",
       "      <td>0</td>\n",
       "      <td>0</td>\n",
       "      <td>0</td>\n",
       "      <td>0</td>\n",
       "      <td>0</td>\n",
       "      <td>0</td>\n",
       "      <td>0</td>\n",
       "      <td>0</td>\n",
       "      <td>1</td>\n",
       "      <td>0</td>\n",
       "    </tr>\n",
       "  </tbody>\n",
       "</table>\n",
       "<p>2 rows × 135 columns</p>\n",
       "</div>"
      ],
      "text/plain": [
       "      Status    MAD2L2     RSRP1       JUN   IL12RB2     S1PR1      CSF1  \\\n",
       "4749       2  1.658083  0.100007 -1.053833  2.007985 -0.277073 -0.361033   \n",
       "4808       1 -0.461597  0.196776  0.776537 -0.448011  2.829140 -0.361033   \n",
       "\n",
       "      AC245014_3     CD160      XCL2  ...  CD4 EM 3  CD4 ISG  CD4 Prolif  \\\n",
       "4749   -0.188688 -0.197934 -0.428727  ...         0        0           0   \n",
       "4808   -0.188688 -0.197934 -0.428727  ...         0        0           0   \n",
       "\n",
       "      CD4 TRM  CD8 CM  CD8 EM 1  CD8 EM 2  CD8 ISG  CD8 TRM 1  CD8 TRM 2  \n",
       "4749        0       0         0         0        0          1          0  \n",
       "4808        0       0         0         0        0          1          0  \n",
       "\n",
       "[2 rows x 135 columns]"
      ]
     },
     "execution_count": 13,
     "metadata": {},
     "output_type": "execute_result"
    }
   ],
   "source": [
    "# Apply scaling \n",
    "# Scaling: Fit only on the training set\n",
    "# scaler = MinMaxScaler(feature_range=(0, 1))\n",
    "scaler = StandardScaler()\n",
    "\n",
    "X_train_scaled = X_train.copy()\n",
    "\n",
    "columns_to_scale = X_train_scaled.columns.difference(['Status', \n",
    "                                                      'CD4 Act', 'CD4 CM', 'CD4 EM 1', 'CD4 EM 2', 'CD4 EM 3',\n",
    "                                                      'CD4 ISG', 'CD4 Prolif', 'CD4 TRM', 'CD8 CM', 'CD8 EM 1', 'CD8 EM 2',\n",
    "                                                      'CD8 ISG', 'CD8 TRM 1', 'CD8 TRM 2'])\n",
    "print(columns_to_scale)\n",
    "X_train_scaled[columns_to_scale] = scaler.fit_transform(X_train_scaled[columns_to_scale])\n",
    "X_train_scaled.head(2)"
   ]
  },
  {
   "cell_type": "code",
   "execution_count": 14,
   "id": "631d9344-27ad-43c4-98be-8e1c70bd927c",
   "metadata": {},
   "outputs": [
    {
     "data": {
      "text/html": [
       "<div>\n",
       "<style scoped>\n",
       "    .dataframe tbody tr th:only-of-type {\n",
       "        vertical-align: middle;\n",
       "    }\n",
       "\n",
       "    .dataframe tbody tr th {\n",
       "        vertical-align: top;\n",
       "    }\n",
       "\n",
       "    .dataframe thead th {\n",
       "        text-align: right;\n",
       "    }\n",
       "</style>\n",
       "<table border=\"1\" class=\"dataframe\">\n",
       "  <thead>\n",
       "    <tr style=\"text-align: right;\">\n",
       "      <th></th>\n",
       "      <th>Status</th>\n",
       "      <th>MAD2L2</th>\n",
       "      <th>RSRP1</th>\n",
       "      <th>JUN</th>\n",
       "      <th>IL12RB2</th>\n",
       "      <th>S1PR1</th>\n",
       "      <th>CSF1</th>\n",
       "      <th>AC245014_3</th>\n",
       "      <th>CD160</th>\n",
       "      <th>XCL2</th>\n",
       "      <th>...</th>\n",
       "      <th>CD4 EM 3</th>\n",
       "      <th>CD4 ISG</th>\n",
       "      <th>CD4 Prolif</th>\n",
       "      <th>CD4 TRM</th>\n",
       "      <th>CD8 CM</th>\n",
       "      <th>CD8 EM 1</th>\n",
       "      <th>CD8 EM 2</th>\n",
       "      <th>CD8 ISG</th>\n",
       "      <th>CD8 TRM 1</th>\n",
       "      <th>CD8 TRM 2</th>\n",
       "    </tr>\n",
       "  </thead>\n",
       "  <tbody>\n",
       "    <tr>\n",
       "      <th>2439</th>\n",
       "      <td>1</td>\n",
       "      <td>-0.461597</td>\n",
       "      <td>1.220956</td>\n",
       "      <td>0.869149</td>\n",
       "      <td>-0.448011</td>\n",
       "      <td>-0.277073</td>\n",
       "      <td>-0.361033</td>\n",
       "      <td>-0.188688</td>\n",
       "      <td>-0.197934</td>\n",
       "      <td>-0.428727</td>\n",
       "      <td>...</td>\n",
       "      <td>0</td>\n",
       "      <td>0</td>\n",
       "      <td>0</td>\n",
       "      <td>0</td>\n",
       "      <td>1</td>\n",
       "      <td>0</td>\n",
       "      <td>0</td>\n",
       "      <td>0</td>\n",
       "      <td>0</td>\n",
       "      <td>0</td>\n",
       "    </tr>\n",
       "    <tr>\n",
       "      <th>4971</th>\n",
       "      <td>0</td>\n",
       "      <td>-0.461597</td>\n",
       "      <td>0.684242</td>\n",
       "      <td>-1.053833</td>\n",
       "      <td>-0.448011</td>\n",
       "      <td>-0.277073</td>\n",
       "      <td>-0.361033</td>\n",
       "      <td>-0.188688</td>\n",
       "      <td>-0.197934</td>\n",
       "      <td>1.740664</td>\n",
       "      <td>...</td>\n",
       "      <td>0</td>\n",
       "      <td>0</td>\n",
       "      <td>0</td>\n",
       "      <td>0</td>\n",
       "      <td>0</td>\n",
       "      <td>0</td>\n",
       "      <td>0</td>\n",
       "      <td>0</td>\n",
       "      <td>0</td>\n",
       "      <td>1</td>\n",
       "    </tr>\n",
       "  </tbody>\n",
       "</table>\n",
       "<p>2 rows × 135 columns</p>\n",
       "</div>"
      ],
      "text/plain": [
       "      Status    MAD2L2     RSRP1       JUN   IL12RB2     S1PR1      CSF1  \\\n",
       "2439       1 -0.461597  1.220956  0.869149 -0.448011 -0.277073 -0.361033   \n",
       "4971       0 -0.461597  0.684242 -1.053833 -0.448011 -0.277073 -0.361033   \n",
       "\n",
       "      AC245014_3     CD160      XCL2  ...  CD4 EM 3  CD4 ISG  CD4 Prolif  \\\n",
       "2439   -0.188688 -0.197934 -0.428727  ...         0        0           0   \n",
       "4971   -0.188688 -0.197934  1.740664  ...         0        0           0   \n",
       "\n",
       "      CD4 TRM  CD8 CM  CD8 EM 1  CD8 EM 2  CD8 ISG  CD8 TRM 1  CD8 TRM 2  \n",
       "2439        0       1         0         0        0          0          0  \n",
       "4971        0       0         0         0        0          0          1  \n",
       "\n",
       "[2 rows x 135 columns]"
      ]
     },
     "execution_count": 14,
     "metadata": {},
     "output_type": "execute_result"
    }
   ],
   "source": [
    "# Apply the transformation to validation and test sets\n",
    "X_test_scaled = X_test.copy()\n",
    "X_test_scaled[columns_to_scale] = scaler.transform(X_test[columns_to_scale])\n",
    "X_test_scaled.head(2)"
   ]
  },
  {
   "cell_type": "code",
   "execution_count": 15,
   "id": "5c373f7c-17eb-4689-be5d-94c0f57e4055",
   "metadata": {},
   "outputs": [],
   "source": [
    "# saving split data\n",
    "with open('Processed/HSV434_Tcell_IFNG_mechanism_ML_UnderSampling_Final_data.pickle', 'wb') as file:\n",
    "    pickle.dump((X, X_train, X_test, X_train_scaled, X_test_scaled,\n",
    "                 y, y_train, y_test), file)"
   ]
  },
  {
   "cell_type": "markdown",
   "id": "bf14b18b-c7e2-4ccc-9d47-69cacf51991a",
   "metadata": {},
   "source": [
    "## Classification models"
   ]
  },
  {
   "cell_type": "code",
   "execution_count": 16,
   "id": "b3d46e45-acfd-4974-ba2f-1c09cb1275ac",
   "metadata": {},
   "outputs": [],
   "source": [
    "with open('Processed/HSV434_Tcell_IFNG_mechanism_ML_UnderSampling_Final_data.pickle', 'rb') as file:\n",
    "    X, X_train, X_test, X_train_scaled, X_test_scaled, y, y_train, y_test = pickle.load(file)"
   ]
  },
  {
   "cell_type": "markdown",
   "id": "a0e3a179-9f3a-4ed8-8fa3-f4cd6efd3abe",
   "metadata": {},
   "source": [
    "## (1) Random Forest"
   ]
  },
  {
   "cell_type": "code",
   "execution_count": null,
   "id": "e492f6ee-fa10-4841-8121-9c9944e8710b",
   "metadata": {},
   "outputs": [],
   "source": [
    "# BayesianCV - search best parameters\n",
    "n_iter = 100\n",
    "\n",
    "rf_class_params = {'n_estimators': Integer(100, 1000),\n",
    "                   'max_depth':Integer(1, 100),\n",
    "                   'min_samples_split':Integer(2, 30)}\n",
    "\n",
    "rf_class_grid = BayesSearchCV(estimator=RandomForestClassifier(),\n",
    "                              search_spaces=rf_class_params,\n",
    "                              n_iter=n_iter,\n",
    "                              cv=5,\n",
    "                              n_jobs=-1,\n",
    "                              scoring='roc_auc',\n",
    "                              random_state=123)\n",
    "\n",
    "rf_class_grid.fit(X_train_scaled, y_train)\n",
    "\n",
    "print(\"Best Random Forest Classifier Parameters:\", rf_class_grid.best_params_)"
   ]
  },
  {
   "cell_type": "code",
   "execution_count": 19,
   "id": "6981000e-d7d5-493a-8e2c-e3fe3bf3f4a3",
   "metadata": {},
   "outputs": [
    {
     "name": "stdout",
     "output_type": "stream",
     "text": [
      "Precision: 0.6667\n",
      "Recall: 0.7181\n",
      "F1: 0.6914\n",
      "ROC_AUC: 0.7345\n"
     ]
    }
   ],
   "source": [
    "# Finalize the model by applying the best parameters\n",
    "RF_class_best = RandomForestClassifier(max_depth=rf_class_grid.best_params_['max_depth'], \n",
    "                                       min_samples_split=rf_class_grid.best_params_['min_samples_split'],\n",
    "                                       n_estimators=rf_class_grid.best_params_['n_estimators'])\n",
    "RF_class_best.fit(X_train_scaled, y_train)\n",
    "\n",
    "# Prediction on testing data\n",
    "y_pred = RF_class_best.predict(X_test_scaled)\n",
    "\n",
    "# Get predicted probabilities for ROC AUC\n",
    "y_pred_proba = RF_class_best.predict_proba(X_test_scaled)[:, 1]  # Probability of the positive class (1)\n",
    "\n",
    "# Evaluation\n",
    "precision, recall, f1, support = precision_recall_fscore_support(y_test, y_pred, average='binary')\n",
    "roc_auc = roc_auc_score(y_test, y_pred_proba)\n",
    "\n",
    "print(f\"Precision: {precision:.4f}\\n\"\n",
    "      f\"Recall: {recall:.4f}\\n\"\n",
    "      f\"F1: {f1:.4f}\\n\"\n",
    "      f\"ROC_AUC: {roc_auc:.4f}\")"
   ]
  },
  {
   "cell_type": "code",
   "execution_count": 20,
   "id": "de087898-f8a9-481e-b0d2-65763c699290",
   "metadata": {},
   "outputs": [
    {
     "data": {
      "text/plain": [
       "['Model/UnderSampling_RF_class_best']"
      ]
     },
     "execution_count": 20,
     "metadata": {},
     "output_type": "execute_result"
    }
   ],
   "source": [
    "dump(RF_class_best, 'Model/UnderSampling_RF_class_best')"
   ]
  },
  {
   "cell_type": "code",
   "execution_count": 21,
   "id": "02851e8c-81a0-4c1f-87b1-31adb760b2dc",
   "metadata": {},
   "outputs": [
    {
     "data": {
      "text/html": [
       "<div>\n",
       "<style scoped>\n",
       "    .dataframe tbody tr th:only-of-type {\n",
       "        vertical-align: middle;\n",
       "    }\n",
       "\n",
       "    .dataframe tbody tr th {\n",
       "        vertical-align: top;\n",
       "    }\n",
       "\n",
       "    .dataframe thead th {\n",
       "        text-align: right;\n",
       "    }\n",
       "</style>\n",
       "<table border=\"1\" class=\"dataframe\">\n",
       "  <thead>\n",
       "    <tr style=\"text-align: right;\">\n",
       "      <th></th>\n",
       "      <th>Feature</th>\n",
       "      <th>Importance</th>\n",
       "    </tr>\n",
       "  </thead>\n",
       "  <tbody>\n",
       "    <tr>\n",
       "      <th>0</th>\n",
       "      <td>JUND</td>\n",
       "      <td>0.021247</td>\n",
       "    </tr>\n",
       "    <tr>\n",
       "      <th>1</th>\n",
       "      <td>CD69</td>\n",
       "      <td>0.020580</td>\n",
       "    </tr>\n",
       "    <tr>\n",
       "      <th>2</th>\n",
       "      <td>ACTG1</td>\n",
       "      <td>0.016184</td>\n",
       "    </tr>\n",
       "    <tr>\n",
       "      <th>3</th>\n",
       "      <td>KLF6</td>\n",
       "      <td>0.015996</td>\n",
       "    </tr>\n",
       "    <tr>\n",
       "      <th>4</th>\n",
       "      <td>EEF1A1</td>\n",
       "      <td>0.015410</td>\n",
       "    </tr>\n",
       "    <tr>\n",
       "      <th>5</th>\n",
       "      <td>DUSP1</td>\n",
       "      <td>0.015079</td>\n",
       "    </tr>\n",
       "    <tr>\n",
       "      <th>6</th>\n",
       "      <td>FOS</td>\n",
       "      <td>0.014944</td>\n",
       "    </tr>\n",
       "    <tr>\n",
       "      <th>7</th>\n",
       "      <td>NR4A2</td>\n",
       "      <td>0.014614</td>\n",
       "    </tr>\n",
       "    <tr>\n",
       "      <th>8</th>\n",
       "      <td>FTH1</td>\n",
       "      <td>0.014487</td>\n",
       "    </tr>\n",
       "    <tr>\n",
       "      <th>9</th>\n",
       "      <td>JUNB</td>\n",
       "      <td>0.014109</td>\n",
       "    </tr>\n",
       "  </tbody>\n",
       "</table>\n",
       "</div>"
      ],
      "text/plain": [
       "  Feature  Importance\n",
       "0    JUND    0.021247\n",
       "1    CD69    0.020580\n",
       "2   ACTG1    0.016184\n",
       "3    KLF6    0.015996\n",
       "4  EEF1A1    0.015410\n",
       "5   DUSP1    0.015079\n",
       "6     FOS    0.014944\n",
       "7   NR4A2    0.014614\n",
       "8    FTH1    0.014487\n",
       "9    JUNB    0.014109"
      ]
     },
     "execution_count": 21,
     "metadata": {},
     "output_type": "execute_result"
    }
   ],
   "source": [
    "feature_importances = RF_class_best.feature_importances_\n",
    "feature_names = RF_class_best.feature_names_in_\n",
    "\n",
    "# Create a pandas DataFrame\n",
    "df_features = pd.DataFrame({'Feature': feature_names, 'Importance': feature_importances})\n",
    "\n",
    "# Sort the DataFrame based on the importance of the features\n",
    "df_features = df_features.sort_values(by='Importance', ascending=False)\n",
    "\n",
    "# Reset the index of the DataFrame\n",
    "df_features = df_features.reset_index(drop=True)\n",
    "\n",
    "# Display the DataFrame\n",
    "df_features.head(10)"
   ]
  },
  {
   "cell_type": "code",
   "execution_count": 22,
   "id": "1a12b3f5-318d-485b-a497-f9e074fb1d45",
   "metadata": {},
   "outputs": [],
   "source": [
    "df_features.to_csv('Results/UnderSampling_RF_importance_result.csv')"
   ]
  },
  {
   "cell_type": "markdown",
   "id": "789e96ab-7e93-40f5-a773-5578bae38d30",
   "metadata": {},
   "source": [
    "## (2) XGBoost"
   ]
  },
  {
   "cell_type": "code",
   "execution_count": 23,
   "id": "c247c9c3-c3f8-44e3-a68c-ed55b92ed84d",
   "metadata": {},
   "outputs": [
    {
     "name": "stdout",
     "output_type": "stream",
     "text": [
      "Best XGB Classifier Parameters: OrderedDict([('learning_rate', 0.09999999999999999), ('max_depth', 1), ('n_estimators', 946)])\n"
     ]
    }
   ],
   "source": [
    "# Bayesian CV - search best parameters\n",
    "n_iter = 100\n",
    "\n",
    "xgb_class_params = {'n_estimators': Integer(100, 1000),\n",
    "                    'max_depth':Integer(1, 100),\n",
    "                    'learning_rate':Real(0.0001, 0.1, prior='log-uniform')}\n",
    "\n",
    "xgb_class_grid = BayesSearchCV(estimator = XGBClassifier(),\n",
    "                               search_spaces = xgb_class_params,\n",
    "                               n_iter = n_iter,\n",
    "                               cv = 5,\n",
    "                               n_jobs = -1,\n",
    "                               scoring = 'roc_auc',\n",
    "                               random_state = 123)\n",
    "\n",
    "xgb_class_grid.fit(X_train_scaled, y_train)\n",
    "\n",
    "print(\"Best XGB Classifier Parameters:\", xgb_class_grid.best_params_)"
   ]
  },
  {
   "cell_type": "code",
   "execution_count": 24,
   "id": "92ecaa68-ccbb-46a6-874c-ff672b80e83c",
   "metadata": {},
   "outputs": [
    {
     "name": "stdout",
     "output_type": "stream",
     "text": [
      "Precision: 0.6634\n",
      "Recall: 0.6627\n",
      "F1: 0.6914\n",
      "ROC_AUC: 0.7278\n"
     ]
    }
   ],
   "source": [
    "# Finalize the model by appling the best parameters\n",
    "xgb_class_best = XGBClassifier(max_depth = xgb_class_grid.best_params_['max_depth'],\n",
    "                               learning_rate = xgb_class_grid.best_params_['learning_rate'],\n",
    "                               n_estimators = xgb_class_grid.best_params_['n_estimators'])\n",
    "xgb_class_best.fit(X_train_scaled, y_train)\n",
    "\n",
    "# prediction on testing data\n",
    "y_pred = xgb_class_best.predict(X_test_scaled)\n",
    "\n",
    "# Get predicted probabilities for ROC AUC\n",
    "y_pred_proba = xgb_class_best.predict_proba(X_test_scaled)[:, 1]  # Probability of the positive class (1)\n",
    "\n",
    "# Evaluation\n",
    "precision, recall, f, support = precision_recall_fscore_support(y_test, y_pred, average='binary')\n",
    "roc_auc = roc_auc_score(y_test, y_pred_proba)\n",
    "\n",
    "print(f\"Precision: {precision:.4f}\\n\"\n",
    "      f\"Recall: {recall:.4f}\\n\"\n",
    "      f\"F1: {f1:.4f}\\n\"\n",
    "      f\"ROC_AUC: {roc_auc:.4f}\")"
   ]
  },
  {
   "cell_type": "code",
   "execution_count": 25,
   "id": "62520b4f-3765-4c32-815c-0c475e021fba",
   "metadata": {},
   "outputs": [
    {
     "data": {
      "text/plain": [
       "['Model/UnderSampling_XGB_class_best']"
      ]
     },
     "execution_count": 25,
     "metadata": {},
     "output_type": "execute_result"
    }
   ],
   "source": [
    "dump(xgb_class_best, 'Model/UnderSampling_XGB_class_best')"
   ]
  },
  {
   "cell_type": "code",
   "execution_count": 26,
   "id": "1c64fe44-acaf-4880-9ecb-b06f992b2c15",
   "metadata": {},
   "outputs": [
    {
     "data": {
      "text/html": [
       "<div>\n",
       "<style scoped>\n",
       "    .dataframe tbody tr th:only-of-type {\n",
       "        vertical-align: middle;\n",
       "    }\n",
       "\n",
       "    .dataframe tbody tr th {\n",
       "        vertical-align: top;\n",
       "    }\n",
       "\n",
       "    .dataframe thead th {\n",
       "        text-align: right;\n",
       "    }\n",
       "</style>\n",
       "<table border=\"1\" class=\"dataframe\">\n",
       "  <thead>\n",
       "    <tr style=\"text-align: right;\">\n",
       "      <th></th>\n",
       "      <th>Feature</th>\n",
       "      <th>Importance</th>\n",
       "    </tr>\n",
       "  </thead>\n",
       "  <tbody>\n",
       "    <tr>\n",
       "      <th>0</th>\n",
       "      <td>CD69</td>\n",
       "      <td>0.067173</td>\n",
       "    </tr>\n",
       "    <tr>\n",
       "      <th>1</th>\n",
       "      <td>CCL4</td>\n",
       "      <td>0.049080</td>\n",
       "    </tr>\n",
       "    <tr>\n",
       "      <th>2</th>\n",
       "      <td>JUND</td>\n",
       "      <td>0.041839</td>\n",
       "    </tr>\n",
       "    <tr>\n",
       "      <th>3</th>\n",
       "      <td>NR4A1</td>\n",
       "      <td>0.030677</td>\n",
       "    </tr>\n",
       "    <tr>\n",
       "      <th>4</th>\n",
       "      <td>LAG3</td>\n",
       "      <td>0.026325</td>\n",
       "    </tr>\n",
       "  </tbody>\n",
       "</table>\n",
       "</div>"
      ],
      "text/plain": [
       "  Feature  Importance\n",
       "0    CD69    0.067173\n",
       "1    CCL4    0.049080\n",
       "2    JUND    0.041839\n",
       "3   NR4A1    0.030677\n",
       "4    LAG3    0.026325"
      ]
     },
     "execution_count": 26,
     "metadata": {},
     "output_type": "execute_result"
    }
   ],
   "source": [
    "feature_importances = xgb_class_best.feature_importances_\n",
    "feature_names = xgb_class_best.feature_names_in_\n",
    "\n",
    "# Create a pandas DataFrame\n",
    "df_features = pd.DataFrame({'Feature': feature_names, 'Importance': feature_importances})\n",
    "\n",
    "# Sort the DataFrame based on the importance of the features\n",
    "df_features = df_features.sort_values(by='Importance', ascending=False)\n",
    "\n",
    "# Reset the index of the DataFrame\n",
    "df_features = df_features.reset_index(drop=True)\n",
    "\n",
    "# Display the DataFrame\n",
    "df_features.head(5)"
   ]
  },
  {
   "cell_type": "code",
   "execution_count": 27,
   "id": "f2c40e3d-8adf-45a4-94ac-d2a8e108a81b",
   "metadata": {},
   "outputs": [],
   "source": [
    "df_features.to_csv('Results/UnderSampling_XGB_importance_result.csv')"
   ]
  },
  {
   "cell_type": "code",
   "execution_count": 28,
   "id": "0cd2bc56-14cd-467e-a5e8-9384f4a3e83c",
   "metadata": {},
   "outputs": [
    {
     "data": {
      "image/png": "[encoded data removed]",
      "text/plain": [
       "<Figure size 640x480 with 1 Axes>"
      ]
     },
     "metadata": {},
     "output_type": "display_data"
    }
   ],
   "source": [
    "xgboost.plot_importance(xgb_class_best, max_num_features = 20)\n",
    "pl.title(\"xgboost.plot_importance(model)\")\n",
    "pl.show()"
   ]
  },
  {
   "cell_type": "code",
   "execution_count": 29,
   "id": "e52b14b5-eebc-4166-9103-671b5f3e2c8c",
   "metadata": {},
   "outputs": [
    {
     "data": {
      "image/png": "[encoded data removed]",
      "text/plain": [
       "<Figure size 640x480 with 1 Axes>"
      ]
     },
     "metadata": {},
     "output_type": "display_data"
    }
   ],
   "source": [
    "xgboost.plot_importance(xgb_class_best, max_num_features = 20, importance_type=\"gain\")\n",
    "pl.title('xgboost.plot_importance(model, importance_type=\"gain\")')\n",
    "pl.show()"
   ]
  },
  {
   "cell_type": "markdown",
   "id": "0a61bd3a-ed90-4924-a36c-f2da3c88c038",
   "metadata": {},
   "source": [
    "## (3) SVM"
   ]
  },
  {
   "cell_type": "code",
   "execution_count": 30,
   "id": "af3b8c7d-0375-4d1e-b4ef-448eb808faf0",
   "metadata": {},
   "outputs": [
    {
     "name": "stdout",
     "output_type": "stream",
     "text": [
      "Best SVM Parameters: OrderedDict([('C', 488.9249544757395), ('gamma', 0.0001)])\n"
     ]
    }
   ],
   "source": [
    "# Bayesian CV - search best parameters\n",
    "n_iter = 100\n",
    "svc_class_param = {'C': Real(0.1, 1000, prior='log-uniform'),\n",
    "                   'gamma':Real(0.0001, 1, prior='log-uniform')}\n",
    "\n",
    "svc_class_grid = BayesSearchCV(estimator = SVC(kernel = 'rbf', probability=True),\n",
    "                               search_spaces = svc_class_param,\n",
    "                               n_iter = n_iter,\n",
    "                               cv = 5,\n",
    "                               n_jobs = -1,\n",
    "                               scoring = 'roc_auc',\n",
    "                               random_state = 123)\n",
    "svc_class_grid.fit(X_train_scaled, y_train)\n",
    "print(\"Best SVM Parameters:\", svc_class_grid.best_params_)"
   ]
  },
  {
   "cell_type": "code",
   "execution_count": 31,
   "id": "2eafc68f-65f3-4338-aef4-39d1f0c62460",
   "metadata": {},
   "outputs": [
    {
     "name": "stdout",
     "output_type": "stream",
     "text": [
      "Precision: 0.6825\n",
      "Recall: 0.6940\n",
      "F1: 0.6914\n",
      "ROC_AUC: 0.7514\n"
     ]
    }
   ],
   "source": [
    "# Finalize the model by appling the best parameters\n",
    "svc_class_best = SVC(C = svc_class_grid.best_params_['C'], \n",
    "                     gamma = svc_class_grid.best_params_['gamma'], \n",
    "                     kernel = 'rbf', \n",
    "                     probability=True)\n",
    "svc_class_best.fit(X_train_scaled, y_train)\n",
    "\n",
    "# prediction on testing data\n",
    "y_pred = svc_class_best.predict(X_test_scaled)\n",
    "\n",
    "# Get predicted probabilities for ROC AUC\n",
    "y_pred_proba = svc_class_best.predict_proba(X_test_scaled)[:, 1]  # Probability of the positive class (1)\n",
    "\n",
    "# Evaluation\n",
    "precision, recall, f, support = precision_recall_fscore_support(y_test, y_pred, average='binary')\n",
    "roc_auc = roc_auc_score(y_test, y_pred_proba)\n",
    "\n",
    "print(f\"Precision: {precision:.4f}\\n\"\n",
    "      f\"Recall: {recall:.4f}\\n\"\n",
    "      f\"F1: {f1:.4f}\\n\"\n",
    "      f\"ROC_AUC: {roc_auc:.4f}\")"
   ]
  },
  {
   "cell_type": "code",
   "execution_count": 32,
   "id": "e82d4b5e-9ed1-4206-8897-7405c97504a6",
   "metadata": {},
   "outputs": [
    {
     "data": {
      "text/plain": [
       "['Model/UnderSampling_svc_class_best']"
      ]
     },
     "execution_count": 32,
     "metadata": {},
     "output_type": "execute_result"
    }
   ],
   "source": [
    "dump(svc_class_best, 'Model/UnderSampling_svc_class_best')"
   ]
  },
  {
   "cell_type": "markdown",
   "id": "53efe3e5-b801-4721-b8fd-46ff752f1ccd",
   "metadata": {},
   "source": [
    "# Stacking models"
   ]
  },
  {
   "cell_type": "code",
   "execution_count": 33,
   "id": "13e2ff27-dbea-4ee9-a338-0a8d5020e584",
   "metadata": {},
   "outputs": [],
   "source": [
    "# load data\n",
    "with open('Processed/HSV434_Tcell_IFNG_mechanism_ML_UnderSampling_Final_data.pickle', 'rb') as file:\n",
    "    X, X_train, X_test, X_train_scaled, X_test_scaled, y, y_train, y_test = pickle.load(file)"
   ]
  },
  {
   "cell_type": "code",
   "execution_count": 34,
   "id": "c1a5d626-a58d-4644-94f8-235ba5669042",
   "metadata": {},
   "outputs": [],
   "source": [
    "# load pre-optimized models\n",
    "RF_class_best = load('Model/UnderSampling_RF_class_best')\n",
    "xgb_class_best = load('Model/UnderSampling_XGB_class_best')\n",
    "svc_class_best = load('Model/UnderSampling_svc_class_best')"
   ]
  },
  {
   "cell_type": "code",
   "execution_count": 35,
   "id": "00b957e3-16a3-4ae4-ac9c-721a600398a1",
   "metadata": {},
   "outputs": [],
   "source": [
    "# Define the base estimators\n",
    "base_estimators = [('RF', RF_class_best),\n",
    "                   ('XGBoost', xgb_class_best),\n",
    "                   ('SVM', svc_class_best)]\n",
    "\n",
    "# Define the meta-model (e.g., logistic regression)\n",
    "meta_model = LogisticRegression(random_state=42, max_iter=1000)"
   ]
  },
  {
   "cell_type": "code",
   "execution_count": 36,
   "id": "86d79bac-1681-4f4b-9ce1-326e670bfe14",
   "metadata": {},
   "outputs": [],
   "source": [
    "# Create the stacking classifier\n",
    "stacked_model = StackingClassifier(estimators = base_estimators, \n",
    "                                   final_estimator = meta_model,\n",
    "                                   cv = 5,  # internal cross-validation for meta-model\n",
    "                                   n_jobs = -1)"
   ]
  },
  {
   "cell_type": "code",
   "execution_count": 39,
   "id": "bcde2d50-7fb1-4ae5-8206-50cae03dc203",
   "metadata": {},
   "outputs": [
    {
     "name": "stdout",
     "output_type": "stream",
     "text": [
      "Best Meta-Model Parameters: OrderedDict([('final_estimator__C', 1.0735617023281263)])\n"
     ]
    }
   ],
   "source": [
    "meta_params = {'final_estimator__C': Real(1e-3, 1e3, prior='log-uniform')}\n",
    "\n",
    "stacked_grid = BayesSearchCV(estimator = stacked_model,\n",
    "                             search_spaces = meta_params,\n",
    "                             n_iter = 50,\n",
    "                             cv = 5,\n",
    "                             n_jobs = -1,\n",
    "                             scoring = 'roc_auc',\n",
    "                             random_state = 42)\n",
    "\n",
    "stacked_grid.fit(X_train_scaled, y_train)\n",
    "\n",
    "print(f\"Best Meta-Model Parameters: {stacked_grid.best_params_}\")"
   ]
  },
  {
   "cell_type": "code",
   "execution_count": 40,
   "id": "947cf86a-2d3e-4bd1-89b3-05226d2921e2",
   "metadata": {},
   "outputs": [
    {
     "name": "stdout",
     "output_type": "stream",
     "text": [
      "Precision: 0.6835\n",
      "Recall: 0.7024\n",
      "F1: 0.6928\n",
      "ROC_AUC: 0.7494\n"
     ]
    }
   ],
   "source": [
    "# Access the best model with optimized parameters\n",
    "best_stacked_model = stacked_grid.best_estimator_\n",
    "\n",
    "# Now, you can use the best model to fit on the data\n",
    "best_stacked_model.fit(X_train_scaled, y_train)\n",
    "\n",
    "# You can then make predictions with the optimized stacked model\n",
    "y_pred = best_stacked_model.predict(X_test_scaled)\n",
    "\n",
    "# Get predicted probabilities for ROC AUC\n",
    "y_pred_proba = best_stacked_model.predict_proba(X_test_scaled)[:, 1]\n",
    "\n",
    "# Evaluation\n",
    "precision, recall, f1, support = precision_recall_fscore_support(y_test, y_pred, average='binary')\n",
    "roc_auc = roc_auc_score(y_test, y_pred_proba)\n",
    "\n",
    "print(f\"Precision: {precision:.4f}\\n\"\n",
    "      f\"Recall: {recall:.4f}\\n\"\n",
    "      f\"F1: {f1:.4f}\\n\"\n",
    "      f\"ROC_AUC: {roc_auc:.4f}\")"
   ]
  },
  {
   "cell_type": "code",
   "execution_count": 41,
   "id": "4d657a6e-d60b-46c9-9d7a-51846fc850b3",
   "metadata": {},
   "outputs": [
    {
     "data": {
      "text/plain": [
       "['Model/UnderSampling_Stacked_class_best']"
      ]
     },
     "execution_count": 41,
     "metadata": {},
     "output_type": "execute_result"
    }
   ],
   "source": [
    "dump(best_stacked_model, 'Model/UnderSampling_Stacked_class_best')"
   ]
  }
 ],
 "metadata": {
  "kernelspec": {
   "display_name": "Python 3 (ipykernel)",
   "language": "python",
   "name": "python3"
  },
  "language_info": {
   "codemirror_mode": {
    "name": "ipython",
    "version": 3
   },
   "file_extension": ".py",
   "mimetype": "text/x-python",
   "name": "python",
   "nbconvert_exporter": "python",
   "pygments_lexer": "ipython3",
   "version": "3.11.3"
  }
 },
 "nbformat": 4,
 "nbformat_minor": 5
}
